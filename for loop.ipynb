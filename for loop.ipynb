{
 "cells": [
  {
   "cell_type": "markdown",
   "id": "0538c35d",
   "metadata": {},
   "source": [
    "# for loop"
   ]
  },
  {
   "cell_type": "code",
   "execution_count": 4,
   "id": "45a33cba",
   "metadata": {},
   "outputs": [
    {
     "name": "stdout",
     "output_type": "stream",
     "text": [
      "0\n",
      "1\n",
      "2\n",
      "3\n",
      "4\n",
      "5\n",
      "6\n",
      "7\n",
      "8\n",
      "9\n",
      "10\n"
     ]
    }
   ],
   "source": [
    "for i in range(0,11):\n",
    "    print(i)"
   ]
  },
  {
   "cell_type": "code",
   "execution_count": 6,
   "id": "aebfface",
   "metadata": {},
   "outputs": [
    {
     "name": "stdout",
     "output_type": "stream",
     "text": [
      "IPCS\n",
      "IPCS\n",
      "IPCS\n",
      "IPCS\n",
      "IPCS\n",
      "IPCS\n",
      "IPCS\n",
      "IPCS\n",
      "IPCS\n",
      "IPCS\n",
      "IPCS\n"
     ]
    }
   ],
   "source": [
    "for i in range(0,11):\n",
    "    print(\"IPCS\")"
   ]
  },
  {
   "cell_type": "code",
   "execution_count": 7,
   "id": "71d493e2",
   "metadata": {},
   "outputs": [
    {
     "name": "stdout",
     "output_type": "stream",
     "text": [
      "10\n",
      "9\n",
      "8\n",
      "7\n",
      "6\n",
      "5\n",
      "4\n",
      "3\n",
      "2\n",
      "1\n"
     ]
    }
   ],
   "source": [
    "for i in range(10,0,-1):\n",
    "    print(i)"
   ]
  },
  {
   "cell_type": "markdown",
   "id": "56fdb1c8",
   "metadata": {},
   "source": [
    "### printing number  from 50 to 5"
   ]
  },
  {
   "cell_type": "code",
   "execution_count": 9,
   "id": "2fa2e263",
   "metadata": {},
   "outputs": [
    {
     "name": "stdout",
     "output_type": "stream",
     "text": [
      "50\n",
      "45\n",
      "40\n",
      "35\n",
      "30\n",
      "25\n",
      "20\n",
      "15\n",
      "10\n"
     ]
    }
   ],
   "source": [
    "for i in range(50,5,-5):\n",
    "    print(i)"
   ]
  },
  {
   "cell_type": "markdown",
   "id": "b9dddbf9",
   "metadata": {},
   "source": [
    "### 1.sum of numbers."
   ]
  },
  {
   "cell_type": "code",
   "execution_count": 10,
   "id": "d8a1749a",
   "metadata": {},
   "outputs": [
    {
     "name": "stdout",
     "output_type": "stream",
     "text": [
      "enter the number:5\n",
      "sum is 15\n"
     ]
    }
   ],
   "source": [
    "total=0\n",
    "n=int(input(\"enter the number:\"))\n",
    "for i in range(1,n+1):\n",
    "    total+=i\n",
    "print(\"sum is\",total)    "
   ]
  },
  {
   "cell_type": "markdown",
   "id": "3d35e40c",
   "metadata": {},
   "source": [
    "### 2.Factoroal"
   ]
  },
  {
   "cell_type": "code",
   "execution_count": 1,
   "id": "5a7d7c5d",
   "metadata": {},
   "outputs": [
    {
     "ename": "SyntaxError",
     "evalue": "incomplete input (2742622545.py, line 4)",
     "output_type": "error",
     "traceback": [
      "\u001b[1;36m  Cell \u001b[1;32mIn[1], line 4\u001b[1;36m\u001b[0m\n\u001b[1;33m    \u001b[0m\n\u001b[1;37m    ^\u001b[0m\n\u001b[1;31mSyntaxError\u001b[0m\u001b[1;31m:\u001b[0m incomplete input\n"
     ]
    }
   ],
   "source": [
    "result=1\n",
    "n=int(input(\"enter a number:\"))\n",
    "for i in range(1,n*1):\n",
    "    "
   ]
  },
  {
   "cell_type": "code",
   "execution_count": null,
   "id": "d0e230f6",
   "metadata": {},
   "outputs": [],
   "source": []
  }
 ],
 "metadata": {
  "kernelspec": {
   "display_name": "Python 3 (ipykernel)",
   "language": "python",
   "name": "python3"
  },
  "language_info": {
   "codemirror_mode": {
    "name": "ipython",
    "version": 3
   },
   "file_extension": ".py",
   "mimetype": "text/x-python",
   "name": "python",
   "nbconvert_exporter": "python",
   "pygments_lexer": "ipython3",
   "version": "3.11.5"
  }
 },
 "nbformat": 4,
 "nbformat_minor": 5
}
