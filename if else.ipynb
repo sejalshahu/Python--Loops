{
 "cells": [
  {
   "cell_type": "markdown",
   "id": "9ec9ac6a",
   "metadata": {},
   "source": [
    "## Simple if"
   ]
  },
  {
   "cell_type": "code",
   "execution_count": 2,
   "id": "4eca777f",
   "metadata": {},
   "outputs": [
    {
     "name": "stdout",
     "output_type": "stream",
     "text": [
      "Enter age:19\n",
      "can vote\n"
     ]
    }
   ],
   "source": [
    "a=int(input(\"Enter age:\"))\n",
    "if a>18:\n",
    "    print(\"can vote\")\n",
    "    "
   ]
  },
  {
   "cell_type": "code",
   "execution_count": 3,
   "id": "9887d3f9",
   "metadata": {},
   "outputs": [
    {
     "name": "stdout",
     "output_type": "stream",
     "text": [
      "Enter age:15\n"
     ]
    }
   ],
   "source": [
    "a=int(input(\"Enter age:\"))\n",
    "if a>18:\n",
    "    print(\"can vote\")\n",
    "    "
   ]
  },
  {
   "cell_type": "markdown",
   "id": "6866558d",
   "metadata": {},
   "source": [
    "## if-else statement"
   ]
  },
  {
   "cell_type": "markdown",
   "id": "4d13f40a",
   "metadata": {},
   "source": [
    "### 1.Even and odd no. checker."
   ]
  },
  {
   "cell_type": "code",
   "execution_count": 8,
   "id": "a618c141",
   "metadata": {},
   "outputs": [
    {
     "name": "stdout",
     "output_type": "stream",
     "text": [
      "Enter a number:24\n",
      "24 is even number.\n"
     ]
    }
   ],
   "source": [
    "num=int(input(\"Enter a number:\"))\n",
    "if num % 2 == 0:\n",
    "        print(num,\"is even number.\")\n",
    "else:\n",
    "        print(num,\"is odd number.\")"
   ]
  },
  {
   "cell_type": "code",
   "execution_count": 9,
   "id": "2c12da90",
   "metadata": {},
   "outputs": [
    {
     "name": "stdout",
     "output_type": "stream",
     "text": [
      "Enter a number:9\n",
      "9 is odd number.\n"
     ]
    }
   ],
   "source": [
    "num=int(input(\"Enter a number:\"))\n",
    "if num % 2 == 0:\n",
    "        print(num,\"is even number.\")\n",
    "else:\n",
    "        print(num,\"is odd number.\")"
   ]
  },
  {
   "cell_type": "markdown",
   "id": "805b96a1",
   "metadata": {},
   "source": [
    "### 2.Check Age For voting."
   ]
  },
  {
   "cell_type": "code",
   "execution_count": 11,
   "id": "e3447998",
   "metadata": {},
   "outputs": [
    {
     "name": "stdout",
     "output_type": "stream",
     "text": [
      "enter age:19\n",
      "you can vote\n"
     ]
    }
   ],
   "source": [
    "a=int(input(\"enter age:\"))\n",
    "if a>18:\n",
    "    print(\"you can vote\")\n",
    "else:\n",
    "    print(\"you are not eligible.\")"
   ]
  },
  {
   "cell_type": "markdown",
   "id": "a3ba4b23",
   "metadata": {},
   "source": [
    "### 3.larger of two numbers."
   ]
  },
  {
   "cell_type": "code",
   "execution_count": 16,
   "id": "df3635a7",
   "metadata": {},
   "outputs": [
    {
     "name": "stdout",
     "output_type": "stream",
     "text": [
      "enter the  first number :234\n",
      "enter the second number :4726\n",
      "b is larger number:  4726.0\n"
     ]
    }
   ],
   "source": [
    "a=int(input(\"enter the  first number :\"))\n",
    "b=float(input(\"enter the second number :\"))\n",
    "if a>b:\n",
    "    print(\"a is larger number:\",a)\n",
    "else:\n",
    "    print(\"b is larger number: \",b)"
   ]
  },
  {
   "cell_type": "markdown",
   "id": "159f1d12",
   "metadata": {},
   "source": [
    "### 4.Smaller of two numbers"
   ]
  },
  {
   "cell_type": "code",
   "execution_count": 18,
   "id": "9bc02866",
   "metadata": {
    "scrolled": true
   },
   "outputs": [
    {
     "name": "stdout",
     "output_type": "stream",
     "text": [
      "enter the 1st number:248\n",
      "enter the 2nd number187\n",
      "smaller number is: 187\n"
     ]
    }
   ],
   "source": [
    "num1=int(input(\"enter the 1st number:\"))\n",
    "num2=int(input(\"enter the 2nd number:\"))\n",
    "if num1<num2:\n",
    "    print(\"smaller number is:\",num1)\n",
    "else:\n",
    "    print(\"smaller number is:\",num2)"
   ]
  },
  {
   "cell_type": "markdown",
   "id": "eb8f71bc",
   "metadata": {},
   "source": [
    "### 5.Write program to find minimum of three numbers."
   ]
  },
  {
   "cell_type": "code",
   "execution_count": 33,
   "id": "f5f02b80",
   "metadata": {},
   "outputs": [
    {
     "name": "stdout",
     "output_type": "stream",
     "text": [
      "enter 1st number:56\n",
      "enter 2nd number:887\n",
      "enter 3rd number:76\n",
      "Smallest number is: 56\n"
     ]
    }
   ],
   "source": [
    "num1=int(input(\"enter 1st number:\"))\n",
    "num2=int(input(\"enter 2nd number:\"))\n",
    "num3=int(input(\"enter 3rd number:\"))\n",
    "if num1<num2 and num1<num3:\n",
    "    print(\"Smallest number is:\",num1)\n",
    "elif num2<num1 and num2<num3:\n",
    "     print(\"smallest number is:\",num2)\n",
    "else:\n",
    "    print(\"smallest number is:\",num3)\n"
   ]
  },
  {
   "cell_type": "markdown",
   "id": "896d7595",
   "metadata": {},
   "source": [
    "### 6.Pass Or Fail."
   ]
  },
  {
   "cell_type": "code",
   "execution_count": 34,
   "id": "07a3a8fb",
   "metadata": {},
   "outputs": [
    {
     "name": "stdout",
     "output_type": "stream",
     "text": [
      "enter the student's score:89\n",
      "Pass\n"
     ]
    }
   ],
   "source": [
    "score=float(input(\"enter the student's score:\"))\n",
    "if score>=35:\n",
    "    print(\"Pass\")\n",
    "    \n",
    "else:\n",
    "    print(\"Fail\")"
   ]
  },
  {
   "cell_type": "markdown",
   "id": "83198db8",
   "metadata": {},
   "source": [
    "### 7.Leap year checker\n",
    "A leap year is a year that contains an extra day, February 29\n",
    "\n",
    "The rules for determining whether a year is a leap year are as follows:\n",
    "\n",
    "If a year is evenly divisible by 4, it is a leap year, except for:\n",
    "\n",
    "Years that are evenly divisible by 100 are not leap years, unless:\n",
    "\n",
    "Years that are evenly divisible by 400 are leap years."
   ]
  },
  {
   "cell_type": "code",
   "execution_count": 47,
   "id": "3b630dc5",
   "metadata": {},
   "outputs": [
    {
     "name": "stdout",
     "output_type": "stream",
     "text": [
      "enter a year:2024\n",
      "Leap year\n"
     ]
    }
   ],
   "source": [
    "year=int(input(\"enter a year:\"))\n",
    "if(year % 4==0 and year % 100!=0) or (year % 400==0):\n",
    "    print(\"Leap year\")\n",
    "else:\n",
    "    print(\"Not a leap year\")\n"
   ]
  },
  {
   "cell_type": "code",
   "execution_count": 40,
   "id": "fc7bd132",
   "metadata": {},
   "outputs": [
    {
     "data": {
      "text/plain": [
       "3"
      ]
     },
     "execution_count": 40,
     "metadata": {},
     "output_type": "execute_result"
    }
   ],
   "source": [
    "2023%4"
   ]
  },
  {
   "cell_type": "code",
   "execution_count": 41,
   "id": "626eb22c",
   "metadata": {},
   "outputs": [
    {
     "data": {
      "text/plain": [
       "23"
      ]
     },
     "execution_count": 41,
     "metadata": {},
     "output_type": "execute_result"
    }
   ],
   "source": [
    "2023%400"
   ]
  },
  {
   "cell_type": "code",
   "execution_count": 42,
   "id": "307b20ed",
   "metadata": {},
   "outputs": [
    {
     "data": {
      "text/plain": [
       "23"
      ]
     },
     "execution_count": 42,
     "metadata": {},
     "output_type": "execute_result"
    }
   ],
   "source": [
    "2023%100"
   ]
  },
  {
   "cell_type": "code",
   "execution_count": 43,
   "id": "c142a0ce",
   "metadata": {},
   "outputs": [
    {
     "data": {
      "text/plain": [
       "0"
      ]
     },
     "execution_count": 43,
     "metadata": {},
     "output_type": "execute_result"
    }
   ],
   "source": [
    "2024%4"
   ]
  },
  {
   "cell_type": "code",
   "execution_count": 44,
   "id": "27a13a8a",
   "metadata": {},
   "outputs": [
    {
     "data": {
      "text/plain": [
       "24"
      ]
     },
     "execution_count": 44,
     "metadata": {},
     "output_type": "execute_result"
    }
   ],
   "source": [
    "2024%400"
   ]
  },
  {
   "cell_type": "code",
   "execution_count": 45,
   "id": "4684136a",
   "metadata": {},
   "outputs": [
    {
     "data": {
      "text/plain": [
       "24"
      ]
     },
     "execution_count": 45,
     "metadata": {},
     "output_type": "execute_result"
    }
   ],
   "source": [
    "2024%100"
   ]
  },
  {
   "cell_type": "code",
   "execution_count": null,
   "id": "d531c069",
   "metadata": {},
   "outputs": [],
   "source": []
  }
 ],
 "metadata": {
  "kernelspec": {
   "display_name": "Python 3 (ipykernel)",
   "language": "python",
   "name": "python3"
  },
  "language_info": {
   "codemirror_mode": {
    "name": "ipython",
    "version": 3
   },
   "file_extension": ".py",
   "mimetype": "text/x-python",
   "name": "python",
   "nbconvert_exporter": "python",
   "pygments_lexer": "ipython3",
   "version": "3.11.5"
  }
 },
 "nbformat": 4,
 "nbformat_minor": 5
}
