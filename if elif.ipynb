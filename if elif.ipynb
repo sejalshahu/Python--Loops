{
 "cells": [
  {
   "cell_type": "markdown",
   "id": "9025bc0c",
   "metadata": {},
   "source": [
    "## if-elif"
   ]
  },
  {
   "cell_type": "markdown",
   "id": "b61148e2",
   "metadata": {},
   "source": [
    "### 1.Simple calculator"
   ]
  },
  {
   "cell_type": "code",
   "execution_count": 26,
   "id": "eabdf04a",
   "metadata": {},
   "outputs": [
    {
     "name": "stdout",
     "output_type": "stream",
     "text": [
      "Enter the first number:54\n",
      "Enter an operator(+,-,*,/,%,**,//):+\n",
      "Enter the second number:6\n",
      "Addition of 54 and 6 is: 60\n"
     ]
    }
   ],
   "source": [
    "num1=int(input(\"Enter the first number:\"))\n",
    "operator=input(\"Enter an operator(+,-,*,/,%,**,//):\")\n",
    "num2=int(input(\"Enter the second number:\"))\n",
    "\n",
    "if operator ==\"+\":\n",
    "      result=num1+num2\n",
    "      print(f\"Addition of {num1} and {num2} is: {result}\")\n",
    "elif operator ==\"-\":\n",
    "     result=num1-num2\n",
    "     print(f\"Substraction of {num1} and {num2} is: {result}\")\n",
    "elif operator ==\"*\":\n",
    "     result=num1*num2\n",
    "     print(f\"Multiplication of {num1} and {num2} is: {result}\")\n",
    "elif operator ==\"/\":\n",
    "     result=num1/num2\n",
    "     print(f\"Division of {num1} and {num2} is: {result}\")\n",
    "elif operator ==\"%\": \n",
    "     result=num1%num2\n",
    "     print(f\"Module of {num1} and {num2} is: {result}\")\n",
    "elif operator ==\"**\":\n",
    "     result=num1**num2\n",
    "     print(f\"Power of {num1} and {num2} is: {result}\")\n",
    "elif operator ==\"//\":\n",
    "     result=num1//num2\n",
    "     print(f\"Floor Division of {num1} and {num2} is: {result}\")\n",
    "else:\n",
    "        print(\"Invalid operator\")"
   ]
  },
  {
   "cell_type": "markdown",
   "id": "e0e41153",
   "metadata": {},
   "source": [
    "### 2.Student Grade checker"
   ]
  },
  {
   "cell_type": "code",
   "execution_count": 43,
   "id": "7d4f9db8",
   "metadata": {},
   "outputs": [
    {
     "name": "stdout",
     "output_type": "stream",
     "text": [
      "Enter the percentage:87\n",
      "The student's grade is:B\n"
     ]
    }
   ],
   "source": [
    "percentage=float(input(\"Enter the percentage:\"))\n",
    "if percentage>=90:\n",
    "    grade='A'\n",
    "elif percentage>=80:\n",
    "    grade='B'\n",
    "elif percentage>=70:\n",
    "    grade='C'\n",
    "elif percentage>=60:\n",
    "    grade='D'\n",
    "else: \n",
    "    grade='F'\n",
    "print(f\"The student's grade is:{grade}\") "
   ]
  },
  {
   "cell_type": "markdown",
   "id": "08d36bfc",
   "metadata": {},
   "source": [
    "### 3.Positive and negative number checker"
   ]
  },
  {
   "cell_type": "code",
   "execution_count": 48,
   "id": "57c43c16",
   "metadata": {},
   "outputs": [
    {
     "name": "stdout",
     "output_type": "stream",
     "text": [
      "Enter the number : 67\n",
      "The number is positive\n"
     ]
    }
   ],
   "source": [
    "a=int(input(\"Enter the number : \"))\n",
    "if a>0:\n",
    "    print(\"The number is positive\")\n",
    "elif a<0:\n",
    "    print(\"The number is negative\")\n",
    "else:\n",
    "    print(\"The number is zero\")"
   ]
  },
  {
   "cell_type": "markdown",
   "id": "0de7f917",
   "metadata": {},
   "source": [
    "### 4.Mark Checker\n"
   ]
  },
  {
   "cell_type": "code",
   "execution_count": 4,
   "id": "af4597d4",
   "metadata": {},
   "outputs": [
    {
     "name": "stdout",
     "output_type": "stream",
     "text": [
      "Enter the marks:97\n",
      "Student got A+ grade\n"
     ]
    }
   ],
   "source": [
    "marks=int(input(\"Enter the marks:\"))\n",
    "\n",
    "if 90<=marks<=100:\n",
    "    print(\"Student got A+ grade\")\n",
    "elif 80<=marks<90:\n",
    "    print(\"Student got A grade\")\n",
    "elif 70<=marks<80:\n",
    "    print(\"Student got B+ grade\")\n",
    "elif 60<=marks<70:    \n",
    "    print(\"student got B grade\")\n",
    "elif 50<=marks<60:\n",
    "    print(\"student got c+ grade\")\n",
    "elif 40<=marks<50:\n",
    "    print(\"Student got c grade\")\n",
    "else:\n",
    "    print(\"Student is fail\")"
   ]
  },
  {
   "cell_type": "markdown",
   "id": "75b3ea48",
   "metadata": {},
   "source": [
    "### 5.Example code to classify temperature ranges."
   ]
  },
  {
   "cell_type": "code",
   "execution_count": 8,
   "id": "18835762",
   "metadata": {},
   "outputs": [
    {
     "name": "stdout",
     "output_type": "stream",
     "text": [
      "enter the temperature in celsius:15\n",
      "the temperature is classified as: cool\n"
     ]
    }
   ],
   "source": [
    "temperature=float(input(\"enter the temperature in celsius:\"))\n",
    "if temperature<0:\n",
    "    classification=\"Freezing\"\n",
    "elif 0<=temperature<10:\n",
    "    classification=\"cold\"\n",
    "elif 10<=temperature<20:\n",
    "    classification=\"cool\"\n",
    "elif 20<=temperature<30:\n",
    "    classification=\"warm\"\n",
    "else:\n",
    "    classification=\"Hot\"\n",
    "print(\"the temperature is classified as:\",classification)    "
   ]
  },
  {
   "cell_type": "code",
   "execution_count": 7,
   "id": "a5a57231",
   "metadata": {},
   "outputs": [
    {
     "name": "stdout",
     "output_type": "stream",
     "text": [
      "total is: 389\n",
      "percentage is: 77.8\n",
      "priya got B+ grade\n"
     ]
    }
   ],
   "source": [
    "maths=78\n",
    "science=80\n",
    "hindi=88\n",
    "english=77\n",
    "history=66\n",
    "total=maths+science+hindi+english+history\n",
    "print(\"total is:\",total)\n",
    "percentage=(total/500)*100\n",
    "print(\"percentage is:\",percentage)\n",
    "if 90<=percentage<=100:\n",
    "    print(\"priya got A+ grade\")\n",
    "elif 80<=percentage<90:\n",
    "    print(\"priya got A grade\")\n",
    "elif 70<=percentage<80:\n",
    "    print(\"priya got B+ grade\")\n",
    "elif 60<=percentage<70:    \n",
    "    print(\"priya got B grade\")\n",
    "elif 50<=percentage<60:\n",
    "    print(\"priya got c+ grade\")\n",
    "elif 40<=percentage<50:\n",
    "    print(\"priya got c grade\")\n",
    "else:\n",
    "    print(\"priya is fail\")"
   ]
  },
  {
   "cell_type": "code",
   "execution_count": null,
   "id": "f48e711b",
   "metadata": {},
   "outputs": [],
   "source": []
  },
  {
   "cell_type": "code",
   "execution_count": null,
   "id": "c32fcc7b",
   "metadata": {},
   "outputs": [],
   "source": []
  },
  {
   "cell_type": "code",
   "execution_count": null,
   "id": "c9713a45",
   "metadata": {},
   "outputs": [],
   "source": []
  }
 ],
 "metadata": {
  "kernelspec": {
   "display_name": "Python 3 (ipykernel)",
   "language": "python",
   "name": "python3"
  },
  "language_info": {
   "codemirror_mode": {
    "name": "ipython",
    "version": 3
   },
   "file_extension": ".py",
   "mimetype": "text/x-python",
   "name": "python",
   "nbconvert_exporter": "python",
   "pygments_lexer": "ipython3",
   "version": "3.11.5"
  }
 },
 "nbformat": 4,
 "nbformat_minor": 5
}
